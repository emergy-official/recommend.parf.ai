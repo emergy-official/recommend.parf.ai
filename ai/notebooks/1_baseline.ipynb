{
 "cells": [
  {
   "cell_type": "markdown",
   "metadata": {},
   "source": [
    "# Baseline Model For Recommend Detection"
   ]
  },
  {
   "cell_type": "markdown",
   "metadata": {},
   "source": [
    "# Summary\n",
    "\n",
    "- Introduction\n",
    "- Before running the notebook\n",
    "- Model creation\n",
    "- Bonus: Edge Impulse conversion"
   ]
  },
  {
   "cell_type": "markdown",
   "metadata": {},
   "source": [
    "## Introduction"
   ]
  },
  {
   "cell_type": "markdown",
   "metadata": {},
   "source": [
    "The baseline model to have a starting point at improving a model for recommend detection.  \n",
    "\n",
    "This is a deep learning model pre-trained on Mobilenet.  \n",
    "The model is modified to have a fully connected layer with 128 units using the ReLU activation.  \n",
    "Then The last layer is a softmax with 2 output units to have more elasticity on building a baseline model with more than two classes (specific anomalies)"
   ]
  },
  {
   "cell_type": "markdown",
   "metadata": {},
   "source": [
    "## Before running the notebook"
   ]
  },
  {
   "cell_type": "markdown",
   "metadata": {},
   "source": [
    "Let's prepare the environement before running the notebook.  \n",
    "\n",
    "1. Do you have the datasets ? Download it [here](https://drive.google.com/file/d/19VM3RtzVFyDZ4s0HKJ8eVMnijAKEJdRJ/view?usp=drive_link) and extract it in the `notebooks` folder\n",
    "\n",
    "2. Run the following command in the terminal from the **`ai`** folder.\n",
    "\n",
    "```sh\n",
    "conda create -p envs/1_baseline python=3.11.7 -y\n",
    "conda activate envs/1_baseline\n",
    "\n",
    "pip install -r requirements/1_baseline.txt\n",
    "```"
   ]
  },
  {
   "cell_type": "markdown",
   "metadata": {},
   "source": [
    "## Model creation"
   ]
  },
  {
   "cell_type": "code",
   "execution_count": 1,
   "metadata": {},
   "outputs": [],
   "source": [
    "import sys  # Import the sys module, required to access system-specific parameters and functions  \n",
    "sys.path.append('../code/')  # Add the '../code/' directory to the path that Python looks in for files to import  \n",
    "  \n",
    "from baseline import *  # Import all contents of the baseline module"
   ]
  },
  {
   "cell_type": "code",
   "execution_count": 2,
   "metadata": {},
   "outputs": [],
   "source": [
    "# Dictionary configuration for storing various settings  \n",
    "cfg = {  \n",
    "    \"seed\": 42,  # Seed for random number generators to ensure reproducibility  \n",
    "    \"dataset_path\": \"datasets\",  # Base path where datasets are stored  \n",
    "    \"output_path\": \"../output\",  # Path where output files will be saved  \n",
    "    \"subdataset\": \"cookies_3\",  # Subdirectory specific to a dataset variant\n",
    "}  "
   ]
  }
 ],
 "metadata": {
  "kernelspec": {
   "display_name": "Python 3",
   "language": "python",
   "name": "python3"
  },
  "language_info": {
   "codemirror_mode": {
    "name": "ipython",
    "version": 3
   },
   "file_extension": ".py",
   "mimetype": "text/x-python",
   "name": "python",
   "nbconvert_exporter": "python",
   "pygments_lexer": "ipython3",
   "version": "3.11.7"
  }
 },
 "nbformat": 4,
 "nbformat_minor": 2
}
